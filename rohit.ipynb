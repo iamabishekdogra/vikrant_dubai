{
 "cells": [
  {
   "cell_type": "code",
   "execution_count": 1,
   "metadata": {},
   "outputs": [
    {
     "data": {
      "text/plain": [
       "'/workspaces/vikrant_dubai/rohit/Frontend_Issues_Complete.xlsx'"
      ]
     },
     "execution_count": 1,
     "metadata": {},
     "output_type": "execute_result"
    }
   ],
   "source": [
    "# Creating structured data for all three batches together in sequence\n",
    "import pandas as pd\n",
    "data_full = [\n",
    "    # First batch of issues\n",
    "    [\"General Issues & Fixes\", \"\", \"\"],\n",
    "    [\"FAQs Update\", \"Change and update FAQs as required\", \"\"],\n",
    "    [\"Login Issues\", \"Sign in with Gmail and other methods not working\", \"Needs to be fixed\"],\n",
    "    [\"\", \"Email verification issue\", \"Page gets distorted when clicking 'Verify with Email'\"],\n",
    "    [\"Post Login Requirements\", \"\", \"\"],\n",
    "    [\"Banner Ad\", \"A banner ad should be provided\", \"\"],\n",
    "    [\"\", \"Banner ad should also be displayed on the recruiter side\", \"\"],\n",
    "    [\"Task Board\", \"Currently empty; clarify what should be displayed\", \"\"],\n",
    "    [\"Profile Completion\", \"Same issues as recruiter\", \"\"],\n",
    "    [\"Payment Method\", \"Should not be saved; only required when posting a job\", \"\"],\n",
    "    [\"Data Saving\", \"No information is being saved\", \"\"],\n",
    "    [\"Company Details\", \"Pull company details by AAL\", \"\"],\n",
    "    [\"Post Job\", \"Issues found in job posting process\", \"\"],\n",
    "    [\"\", \"Change image as discussed\", \"\"],\n",
    "    [\"AI Writing\", \"Write with AI not working\", \"\"],\n",
    "    [\"Interview Process\", \"Add various steps in the selection process\", \"\"],\n",
    "    [\"\", \"Interview with founders/management\", \"\"],\n",
    "    [\"Reward System\", \"Enter reward amount per successful closure\", \"\"],\n",
    "    [\"\", \"Add note: Reward amount is the commission payable on successful hiring. Released after 60 days.\", \"\"],\n",
    "    [\"\", \"Show recruiters that topping up their wallet can lead to faster closures\", \"\"],\n",
    "    [\"Jobs Section\", \"Showing 'Hired Candidate' automatically under jobs\", \"\"],\n",
    "    [\"Recruiter ID\", \"Recruiter ID is showing unnecessarily\", \"\"],\n",
    "    [\"Emails\", \"Clarify communication flow on all levels\", \"\"],\n",
    "    [\"Closing Jobs\", \"How to close an active job?\", \"\"],\n",
    "    [\"Dashboard\", \"Buttons for recruiters, candidates, etc. not working\", \"\"],\n",
    "\n",
    "    # Second batch of issues\n",
    "    [\"Frontend Issues & Fixes\", \"\", \"\"],\n",
    "    [\"Login\", \"Recruit on Your Terms - Word Capitalization\", \"\"],\n",
    "    [\"\", \"Remove 'Only' and keep 'Top Companies' on Homepage\", \"\"],\n",
    "    [\"\", \"Add 'For Companies' and 'For Recruiters' on the top bar\", \"\"],\n",
    "    [\"\", \"Change '90% Satisfaction' to '90% Fill Rate'\", \"\"],\n",
    "    [\"\", \"Images for 'Our Recruiting Verticals' will be shared\", \"\"],\n",
    "    [\"\", \"Scrolling over an image overlaps text in some cases\", \"\"],\n",
    "    [\"\", \"In 'Why Choose Shiftz' - Ensure first letter capitalization\", \"\"],\n",
    "    [\"\", \"Remove Testimonials section\", \"\"],\n",
    "    [\"\", \"Quick Links are not working\", \"\"],\n",
    "    [\"\", \"Social Media Links are not working\", \"\"],\n",
    "    [\"\", \"Add all policies on Homepage from old site\", \"\"],\n",
    "    [\"\", \"Contact Us page is missing\", \"\"],\n",
    "    [\"\", \"Add 'About Us' with write-up and pictures\", \"\"],\n",
    "    [\"\", \"Remove 'Choose from the Best Companies' section\", \"\"],\n",
    "    [\"\", \"In Testimonials, add images or remove image circle\", \"\"],\n",
    "    [\"\", \"FAQs updated as per shared details\", \"\"],\n",
    "    [\"\", \"'Get Started' button takes a while to load\", \"\"],\n",
    "    [\"\", \"Change Email option needed\", \"\"],\n",
    "    [\"\", \"Sign up with Google and LinkedIn not working\", \"\"],\n",
    "    [\"\", \"Post Verification Email - Welcome Emailer\", \"\"],\n",
    "    [\"\", \"Credit That Work - Remove 'Simply' and Add 'Connect with Leading Employers Today!'\", \"\"],\n",
    "    [\"\", \"Current Credits (100 Credits) - Not Clickable; Clarify Purpose\", \"\"],\n",
    "    [\"\", \"Buy Credit Section - Change Terms and Plans as Shared\", \"\"],\n",
    "    [\"Profile Completion\", \"Professional Details Section - Pencil Icon for Edit, Make Standardized\", \"\"],\n",
    "    [\"\", \"Industries - Allow Multiple Selection\", \"\"],\n",
    "    [\"\", \"Key Roles - Allow Multiple Selection\", \"\"],\n",
    "    [\"\", \"After Filling Professional Details, Yes/No Section Disappears\", \"\"],\n",
    "    [\"\", \"LinkedIn Profile Integration in 'About You'\", \"\"],\n",
    "    [\"\", \"Certifications Not Getting Saved\", \"\"],\n",
    "    [\"\", \"Unable to Edit Photo and Other Details\", \"\"],\n",
    "    [\"\", \"Even After Filling, Profile Shows Only 30% Completed\", \"\"],\n",
    "    [\"Main Page\", \"Choose Industry - Not All Industries Showing in Dropdown\", \"\"],\n",
    "]\n",
    "\n",
    "# Convert data to DataFrame\n",
    "df_full = pd.DataFrame(data_full, columns=[\"Category\", \"Issue\", \"Notes\"])\n",
    "\n",
    "# Save to an Excel file\n",
    "file_path = \"/workspaces/vikrant_dubai/rohit/Frontend_Issues_Complete.xlsx\"\n",
    "df_full.to_excel(file_path, index=False)\n",
    "\n",
    "file_path"
   ]
  }
 ],
 "metadata": {
  "kernelspec": {
   "display_name": "Python 3",
   "language": "python",
   "name": "python3"
  },
  "language_info": {
   "codemirror_mode": {
    "name": "ipython",
    "version": 3
   },
   "file_extension": ".py",
   "mimetype": "text/x-python",
   "name": "python",
   "nbconvert_exporter": "python",
   "pygments_lexer": "ipython3",
   "version": "3.12.1"
  }
 },
 "nbformat": 4,
 "nbformat_minor": 2
}
