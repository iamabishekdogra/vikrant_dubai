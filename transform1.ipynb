{
 "cells": [
  {
   "cell_type": "code",
   "execution_count": 1,
   "metadata": {},
   "outputs": [],
   "source": [
    "import pandas as pd"
   ]
  },
  {
   "cell_type": "code",
   "execution_count": 2,
   "metadata": {},
   "outputs": [],
   "source": [
    "excel_file = pd.ExcelFile('/workspaces/vikrant_dubai/RAW/AD/AD 1.xlsx')\n",
    "\n",
    "\n",
    "df = pd.DataFrame(columns=[\"Station Name\", \"Latitude\", \"Longitude\", \"Region\", \"Area Classification\"])\n",
    "dfs = []\n",
    "for i in range(len(excel_file.sheet_names)-4):\n",
    "    df = pd.read_excel(\"/workspaces/vikrant_dubai/RAW/AD/AD 1.xlsx\", sheet_name = excel_file.sheet_names[i])\n",
    "    df2 = df.iloc[:, :8]\n",
    "\n",
    "    df = df2.transpose().iloc[:, :1]\n",
    "    df.columns = df.iloc[0]\n",
    "    df = df[1:]\n",
    "\n",
    "    mapped_data = {\n",
    "        \"Station Name\": df.index[0],  \n",
    "        \"Latitude\": df.iloc[1, 0],  \n",
    "        \"Longitude\": df.iloc[3, 0],  \n",
    "        \"Region\": df.index[3],  \n",
    "        \"Area Classification\": df.index[6]  \n",
    "    }\n",
    "    temp_df = pd.DataFrame([mapped_data])\n",
    "    dfs.append(temp_df)\n",
    "\n",
    "final_df = pd.concat(dfs, ignore_index=True)"
   ]
  },
  {
   "cell_type": "code",
   "execution_count": 51,
   "metadata": {},
   "outputs": [
    {
     "data": {
      "text/plain": [
       "41"
      ]
     },
     "execution_count": 51,
     "metadata": {},
     "output_type": "execute_result"
    }
   ],
   "source": [
    "dfd=pd.read_excel('/workspaces/vikrant_dubai/RAW/AD/AD 1.xlsx')\n",
    "\n",
    "dfd.columns = dfd.iloc[4]\n",
    "dfd = dfd[5:]\n",
    "dfd.reset_index(drop=True, inplace=True)\n",
    "len(dfd.columns)"
   ]
  },
  {
   "cell_type": "code",
   "execution_count": null,
   "metadata": {},
   "outputs": [],
   "source": []
  },
  {
   "cell_type": "code",
   "execution_count": 4,
   "metadata": {},
   "outputs": [],
   "source": [
    "for i in range(len(excel_file.sheet_names)-4):\n",
    "    df3=pd.read_excel(\"/workspaces/vikrant_dubai/RAW/AD/AD 1.xlsx\", sheet_name = excel_file.sheet_names[i])\n",
    "    df3 = df3.drop(df3.index[:4])\n",
    "    df3.columns = df3.iloc[0:3].apply(lambda x: ' '.join(x.dropna().astype(str)), axis=0)\n",
    "    df3 = df3[3:]\n",
    "    df3.reset_index(drop=True, inplace=True)\n",
    "    df3.insert(0, 'Station Name', excel_file.sheet_names[i])\n",
    "    # df3.to_csv(f'/workspaces/vikrant_dubai/Transformed/{excel_file.sheet_names[i]}.csv', index=False)"
   ]
  },
  {
   "cell_type": "code",
   "execution_count": null,
   "metadata": {},
   "outputs": [],
   "source": [
    "df3"
   ]
  },
  {
   "cell_type": "code",
   "execution_count": null,
   "metadata": {},
   "outputs": [],
   "source": [
    "df3.columns = df3.columns.str.replace(' ', '_') "
   ]
  },
  {
   "cell_type": "code",
   "execution_count": null,
   "metadata": {},
   "outputs": [],
   "source": [
    "import os\n",
    "\n",
    "# Get a list of all CSV files in the transformed folder\n",
    "csv_files = [f for f in os.listdir('/workspaces/vikrant_test_pytorch/transformed') if f.endswith('.csv')]\n",
    "\n",
    "# Read and concatenate all CSV files\n",
    "combined_df = pd.concat([pd.read_csv(os.path.join('/workspaces/vikrant_test_pytorch/transformed', f)) for f in csv_files], ignore_index=True)\n",
    "\n",
    "# Save the combined DataFrame to a new CSV file\n",
    "combined_df.to_csv('/workspaces/vikrant_test_pytorch/final/combined.csv', index=False)"
   ]
  }
 ],
 "metadata": {
  "kernelspec": {
   "display_name": "Python 3",
   "language": "python",
   "name": "python3"
  },
  "language_info": {
   "codemirror_mode": {
    "name": "ipython",
    "version": 3
   },
   "file_extension": ".py",
   "mimetype": "text/x-python",
   "name": "python",
   "nbconvert_exporter": "python",
   "pygments_lexer": "ipython3",
   "version": "3.12.1"
  }
 },
 "nbformat": 4,
 "nbformat_minor": 2
}
