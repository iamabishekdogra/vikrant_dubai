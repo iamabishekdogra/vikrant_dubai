{
 "cells": [
  {
   "cell_type": "code",
   "execution_count": 1,
   "metadata": {},
   "outputs": [],
   "source": [
    "import pandas as pd\n",
    "import numpy as np\n",
    "\n",
    "# Load the CSV file into a Pandas DataFrame\n",
    "file_path = \"/workspaces/vikrant_dubai/Book.csv\"\n",
    "df = pd.read_csv(file_path)\n",
    "\n",
    "# Create a new column 'Data cap' and initially set first 7 rows as NaN\n",
    "df['Data cap'] = None\n",
    "\n",
    "# Apply the formula: COUNT(O3 last 8 rows) / 8 * 100\n",
    "for i in range(7, len(df)):\n",
    "    df.loc[i, 'Data cap'] = df.loc[i-7:i, 'O3'].count() / 8 * 100\n",
    "\n",
    "# Create a new column 'O3 8H Avg. (WHO)' and initially set first 7 rows as NaN\n",
    "df['O3 8H Avg. (WHO)'] = None\n",
    "\n",
    "# Apply the given formula:\n",
    "# IF(Data cap >= 75, AVERAGE(O3 last 8 rows), IF(MAX(O3 last 8 rows) > 100, MAX(O3 last 8 rows), \"\"))\n",
    "for i in range(7, len(df)):\n",
    "    if df.loc[i, 'Data cap'] >= 75:\n",
    "        df.loc[i, 'O3 8H Avg. (WHO)'] = df.loc[i-7:i, 'O3'].mean()\n",
    "    elif df.loc[i-7:i, 'O3'].max() > 100:\n",
    "        df.loc[i, 'O3 8H Avg. (WHO)'] = df.loc[i-7:i, 'O3'].max()\n",
    "    else:\n",
    "        df.loc[i, 'O3 8H Avg. (WHO)'] = np.nan  # Blank equivalent\n",
    "\n",
    "# Create a new column 'O3 8H Avg. (N/S)' and initially set first 7 rows as NaN\n",
    "df['O3 8H Avg. (N/S)'] = None\n",
    "\n",
    "# Apply the given formula:\n",
    "# IF(Data cap >= 75, AVERAGE(O3 last 8 rows), IF(MAX(O3 last 8 rows) > 120, MAX(O3 last 8 rows), \"\"))\n",
    "for i in range(7, len(df)):\n",
    "    if df.loc[i, 'Data cap'] >= 75:\n",
    "        df.loc[i, 'O3 8H Avg. (N/S)'] = df.loc[i-7:i, 'O3'].mean()\n",
    "    elif df.loc[i-7:i, 'O3'].max() > 120:\n",
    "        df.loc[i, 'O3 8H Avg. (N/S)'] = df.loc[i-7:i, 'O3'].max()\n",
    "    else:\n",
    "        df.loc[i, 'O3 8H Avg. (N/S)'] = np.nan  # Blank equivalent\n",
    "\n",
    "# Convert the 'Date' column to datetime format for proper grouping\n",
    "df['Date'] = pd.to_datetime(df['Date'], format='%d-%m-%Y')\n",
    "\n"
   ]
  },
  {
   "cell_type": "code",
   "execution_count": 2,
   "metadata": {},
   "outputs": [
    {
     "data": {
      "application/vnd.microsoft.datawrangler.viewer.v0+json": {
       "columns": [
        {
         "name": "index",
         "rawType": "int64",
         "type": "integer"
        },
        {
         "name": "Station Name",
         "rawType": "object",
         "type": "string"
        },
        {
         "name": "Date",
         "rawType": "datetime64[ns]",
         "type": "datetime"
        },
        {
         "name": "O3",
         "rawType": "float64",
         "type": "float"
        },
        {
         "name": "Data cap",
         "rawType": "object",
         "type": "unknown"
        },
        {
         "name": "O3 8H Avg. (WHO)",
         "rawType": "object",
         "type": "unknown"
        },
        {
         "name": "O3 8H Avg. (N/S)",
         "rawType": "object",
         "type": "unknown"
        }
       ],
       "conversionMethod": "pd.DataFrame",
       "ref": "252196b9-b5b9-47d1-a76b-02db14edf628",
       "rows": [
        [
         "0",
         "Envi",
         "2023-01-01 00:00:00",
         "1.9632",
         null,
         null,
         null
        ],
        [
         "1",
         "Envi",
         "2023-01-01 00:00:00",
         "1.9632",
         null,
         null,
         null
        ],
        [
         "2",
         "Envi",
         "2023-01-01 00:00:00",
         "1.9632",
         null,
         null,
         null
        ],
        [
         "3",
         "Envi",
         "2023-01-01 00:00:00",
         "1.9632",
         null,
         null,
         null
        ],
        [
         "4",
         "Envi",
         "2023-01-01 00:00:00",
         "1.9632",
         null,
         null,
         null
        ],
        [
         "5",
         "Envi",
         "2023-01-01 00:00:00",
         "1.9632",
         null,
         null,
         null
        ],
        [
         "6",
         "Envi",
         "2023-01-01 00:00:00",
         "1.9632",
         null,
         null,
         null
        ],
        [
         "7",
         "Envi",
         "2023-01-01 00:00:00",
         "1.9632",
         "100.0",
         "1.9632",
         "1.9632"
        ],
        [
         "8",
         "Envi",
         "2023-01-01 00:00:00",
         "1.9632",
         "100.0",
         "1.9632",
         "1.9632"
        ],
        [
         "9",
         "Envi",
         "2023-01-01 00:00:00",
         "11.7792",
         "100.0",
         "3.1902",
         "3.1902"
        ],
        [
         "10",
         "Envi",
         "2023-01-01 00:00:00",
         "31.4112",
         "100.0",
         "6.8712",
         "6.8712"
        ],
        [
         "11",
         "Envi",
         "2023-01-01 00:00:00",
         "62.8224",
         "100.0",
         "14.4786",
         "14.4786"
        ],
        [
         "12",
         "Envi",
         "2023-01-01 00:00:00",
         "82.4544",
         "100.0",
         "24.54",
         "24.54"
        ],
        [
         "13",
         "Envi",
         "2023-01-01 00:00:00",
         "88.34400000000001",
         "100.0",
         "35.3376",
         "35.3376"
        ],
        [
         "14",
         "Envi",
         "2023-01-01 00:00:00",
         "88.34400000000001",
         "100.0",
         "46.135200000000005",
         "46.135200000000005"
        ],
        [
         "15",
         "Envi",
         "2023-01-01 00:00:00",
         "82.4544",
         "100.0",
         "56.196600000000004",
         "56.196600000000004"
        ],
        [
         "16",
         "Envi",
         "2023-01-01 00:00:00",
         "70.67519999999999",
         "100.0",
         "64.78559999999999",
         "64.78559999999999"
        ],
        [
         "17",
         "Envi",
         "2023-01-01 00:00:00",
         "47.1168",
         "100.0",
         "69.2028",
         "69.2028"
        ],
        [
         "18",
         "Envi",
         "2023-01-01 00:00:00",
         "37.3008",
         "100.0",
         "69.939",
         "69.939"
        ],
        [
         "19",
         "Envi",
         "2023-01-01 00:00:00",
         "23.5584",
         "100.0",
         "65.031",
         "65.031"
        ],
        [
         "20",
         "Envi",
         "2023-01-01 00:00:00",
         "27.4848",
         "100.0",
         "58.1598",
         "58.1598"
        ],
        [
         "21",
         "Envi",
         "2023-01-01 00:00:00",
         "13.7424",
         "100.0",
         "48.834599999999995",
         "48.834599999999995"
        ],
        [
         "22",
         "Envi",
         "2023-01-01 00:00:00",
         "1.9632",
         "100.0",
         "38.037",
         "38.037"
        ],
        [
         "23",
         "Envi",
         "2023-01-01 00:00:00",
         "1.9632",
         "100.0",
         "27.9756",
         "27.9756"
        ],
        [
         "24",
         "Envi",
         "2023-01-02 00:00:00",
         "1.9632",
         "100.0",
         "19.3866",
         "19.3866"
        ],
        [
         "25",
         "Envi",
         "2023-01-02 00:00:00",
         "1.9632",
         "100.0",
         "13.7424",
         "13.7424"
        ],
        [
         "26",
         "Envi",
         "2023-01-02 00:00:00",
         "1.9632",
         "100.0",
         "9.3252",
         "9.3252"
        ],
        [
         "27",
         "Envi",
         "2023-01-02 00:00:00",
         "1.9632",
         "100.0",
         "6.6258",
         "6.6258"
        ],
        [
         "28",
         "Envi",
         "2023-01-02 00:00:00",
         "1.9632",
         "100.0",
         "3.4356",
         "3.4356"
        ],
        [
         "29",
         "Envi",
         "2023-01-02 00:00:00",
         "3.9264",
         "100.0",
         "2.2085999999999997",
         "2.2085999999999997"
        ],
        [
         "30",
         "Envi",
         "2023-01-02 00:00:00",
         "1.9632",
         "100.0",
         "2.2085999999999997",
         "2.2085999999999997"
        ],
        [
         "31",
         "Envi",
         "2023-01-02 00:00:00",
         "3.9264",
         "100.0",
         "2.4539999999999997",
         "2.4539999999999997"
        ],
        [
         "32",
         "Envi",
         "2023-01-02 00:00:00",
         "5.8896",
         "100.0",
         "2.9448",
         "2.9448"
        ],
        [
         "33",
         "Envi",
         "2023-01-02 00:00:00",
         "15.7056",
         "100.0",
         "4.662599999999999",
         "4.662599999999999"
        ],
        [
         "34",
         "Envi",
         "2023-01-02 00:00:00",
         "31.4112",
         "100.0",
         "8.3436",
         "8.3436"
        ],
        [
         "35",
         "Envi",
         "2023-01-02 00:00:00",
         "58.896",
         "100.0",
         "15.4602",
         "15.4602"
        ],
        [
         "36",
         "Envi",
         "2023-01-02 00:00:00",
         "66.74880000000002",
         "100.0",
         "23.558400000000002",
         "23.558400000000002"
        ],
        [
         "37",
         "Envi",
         "2023-01-02 00:00:00",
         "74.6016",
         "100.0",
         "32.3928",
         "32.3928"
        ],
        [
         "38",
         "Envi",
         "2023-01-02 00:00:00",
         "74.6016",
         "100.0",
         "41.4726",
         "41.4726"
        ],
        [
         "39",
         "Envi",
         "2023-01-02 00:00:00",
         "72.63839999999999",
         "100.0",
         "50.061600000000006",
         "50.061600000000006"
        ],
        [
         "40",
         "Envi",
         "2023-01-02 00:00:00",
         "70.67519999999999",
         "100.0",
         "58.159800000000004",
         "58.159800000000004"
        ],
        [
         "41",
         "Envi",
         "2023-01-02 00:00:00",
         "51.0432",
         "100.0",
         "62.577",
         "62.577"
        ],
        [
         "42",
         "Envi",
         "2023-01-02 00:00:00",
         "39.264",
         "100.0",
         "63.5586",
         "63.5586"
        ],
        [
         "43",
         "Envi",
         "2023-01-02 00:00:00",
         "15.7056",
         "100.0",
         "58.159800000000004",
         "58.159800000000004"
        ],
        [
         "44",
         "Envi",
         "2023-01-02 00:00:00",
         "15.7056",
         "100.0",
         "51.779399999999995",
         "51.779399999999995"
        ],
        [
         "45",
         "Envi",
         "2023-01-02 00:00:00",
         "7.8528",
         "100.0",
         "43.4358",
         "43.4358"
        ],
        [
         "46",
         "Envi",
         "2023-01-02 00:00:00",
         "9.816",
         "100.0",
         "35.337599999999995",
         "35.337599999999995"
        ],
        [
         "47",
         "Envi",
         "2023-01-02 00:00:00",
         "15.7056",
         "100.0",
         "28.220999999999997",
         "28.220999999999997"
        ],
        [
         "48",
         "Envi",
         "2023-01-03 00:00:00",
         "27.4848",
         "100.0",
         "22.822200000000002",
         "22.822200000000002"
        ],
        [
         "49",
         "Envi",
         "2023-01-03 00:00:00",
         "25.5216",
         "100.0",
         "19.631999999999998",
         "19.631999999999998"
        ]
       ],
       "shape": {
        "columns": 6,
        "rows": 744
       }
      },
      "text/html": [
       "<div>\n",
       "<style scoped>\n",
       "    .dataframe tbody tr th:only-of-type {\n",
       "        vertical-align: middle;\n",
       "    }\n",
       "\n",
       "    .dataframe tbody tr th {\n",
       "        vertical-align: top;\n",
       "    }\n",
       "\n",
       "    .dataframe thead th {\n",
       "        text-align: right;\n",
       "    }\n",
       "</style>\n",
       "<table border=\"1\" class=\"dataframe\">\n",
       "  <thead>\n",
       "    <tr style=\"text-align: right;\">\n",
       "      <th></th>\n",
       "      <th>Station Name</th>\n",
       "      <th>Date</th>\n",
       "      <th>O3</th>\n",
       "      <th>Data cap</th>\n",
       "      <th>O3 8H Avg. (WHO)</th>\n",
       "      <th>O3 8H Avg. (N/S)</th>\n",
       "    </tr>\n",
       "  </thead>\n",
       "  <tbody>\n",
       "    <tr>\n",
       "      <th>0</th>\n",
       "      <td>Envi</td>\n",
       "      <td>2023-01-01</td>\n",
       "      <td>1.9632</td>\n",
       "      <td>None</td>\n",
       "      <td>None</td>\n",
       "      <td>None</td>\n",
       "    </tr>\n",
       "    <tr>\n",
       "      <th>1</th>\n",
       "      <td>Envi</td>\n",
       "      <td>2023-01-01</td>\n",
       "      <td>1.9632</td>\n",
       "      <td>None</td>\n",
       "      <td>None</td>\n",
       "      <td>None</td>\n",
       "    </tr>\n",
       "    <tr>\n",
       "      <th>2</th>\n",
       "      <td>Envi</td>\n",
       "      <td>2023-01-01</td>\n",
       "      <td>1.9632</td>\n",
       "      <td>None</td>\n",
       "      <td>None</td>\n",
       "      <td>None</td>\n",
       "    </tr>\n",
       "    <tr>\n",
       "      <th>3</th>\n",
       "      <td>Envi</td>\n",
       "      <td>2023-01-01</td>\n",
       "      <td>1.9632</td>\n",
       "      <td>None</td>\n",
       "      <td>None</td>\n",
       "      <td>None</td>\n",
       "    </tr>\n",
       "    <tr>\n",
       "      <th>4</th>\n",
       "      <td>Envi</td>\n",
       "      <td>2023-01-01</td>\n",
       "      <td>1.9632</td>\n",
       "      <td>None</td>\n",
       "      <td>None</td>\n",
       "      <td>None</td>\n",
       "    </tr>\n",
       "    <tr>\n",
       "      <th>...</th>\n",
       "      <td>...</td>\n",
       "      <td>...</td>\n",
       "      <td>...</td>\n",
       "      <td>...</td>\n",
       "      <td>...</td>\n",
       "      <td>...</td>\n",
       "    </tr>\n",
       "    <tr>\n",
       "      <th>739</th>\n",
       "      <td>Envi</td>\n",
       "      <td>2023-01-31</td>\n",
       "      <td>3.9264</td>\n",
       "      <td>100.0</td>\n",
       "      <td>11.7792</td>\n",
       "      <td>11.7792</td>\n",
       "    </tr>\n",
       "    <tr>\n",
       "      <th>740</th>\n",
       "      <td>Envi</td>\n",
       "      <td>2023-01-31</td>\n",
       "      <td>NaN</td>\n",
       "      <td>87.5</td>\n",
       "      <td>10.657371</td>\n",
       "      <td>10.657371</td>\n",
       "    </tr>\n",
       "    <tr>\n",
       "      <th>741</th>\n",
       "      <td>Envi</td>\n",
       "      <td>2023-01-31</td>\n",
       "      <td>5.8896</td>\n",
       "      <td>87.5</td>\n",
       "      <td>8.133257</td>\n",
       "      <td>8.133257</td>\n",
       "    </tr>\n",
       "    <tr>\n",
       "      <th>742</th>\n",
       "      <td>Envi</td>\n",
       "      <td>2023-01-31</td>\n",
       "      <td>1.9632</td>\n",
       "      <td>87.5</td>\n",
       "      <td>6.450514</td>\n",
       "      <td>6.450514</td>\n",
       "    </tr>\n",
       "    <tr>\n",
       "      <th>743</th>\n",
       "      <td>Envi</td>\n",
       "      <td>2023-01-31</td>\n",
       "      <td>NaN</td>\n",
       "      <td>75.0</td>\n",
       "      <td>5.5624</td>\n",
       "      <td>5.5624</td>\n",
       "    </tr>\n",
       "  </tbody>\n",
       "</table>\n",
       "<p>744 rows × 6 columns</p>\n",
       "</div>"
      ],
      "text/plain": [
       "    Station Name       Date      O3 Data cap O3 8H Avg. (WHO) O3 8H Avg. (N/S)\n",
       "0           Envi 2023-01-01  1.9632     None             None             None\n",
       "1           Envi 2023-01-01  1.9632     None             None             None\n",
       "2           Envi 2023-01-01  1.9632     None             None             None\n",
       "3           Envi 2023-01-01  1.9632     None             None             None\n",
       "4           Envi 2023-01-01  1.9632     None             None             None\n",
       "..           ...        ...     ...      ...              ...              ...\n",
       "739         Envi 2023-01-31  3.9264    100.0          11.7792          11.7792\n",
       "740         Envi 2023-01-31     NaN     87.5        10.657371        10.657371\n",
       "741         Envi 2023-01-31  5.8896     87.5         8.133257         8.133257\n",
       "742         Envi 2023-01-31  1.9632     87.5         6.450514         6.450514\n",
       "743         Envi 2023-01-31     NaN     75.0           5.5624           5.5624\n",
       "\n",
       "[744 rows x 6 columns]"
      ]
     },
     "execution_count": 2,
     "metadata": {},
     "output_type": "execute_result"
    }
   ],
   "source": [
    "df"
   ]
  },
  {
   "cell_type": "code",
   "execution_count": null,
   "metadata": {},
   "outputs": [],
   "source": []
  }
 ],
 "metadata": {
  "kernelspec": {
   "display_name": "Python 3",
   "language": "python",
   "name": "python3"
  },
  "language_info": {
   "codemirror_mode": {
    "name": "ipython",
    "version": 3
   },
   "file_extension": ".py",
   "mimetype": "text/x-python",
   "name": "python",
   "nbconvert_exporter": "python",
   "pygments_lexer": "ipython3",
   "version": "3.12.1"
  }
 },
 "nbformat": 4,
 "nbformat_minor": 2
}
